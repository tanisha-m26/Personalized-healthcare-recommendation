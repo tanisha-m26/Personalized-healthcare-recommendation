{
  "cells": [
    {
      "cell_type": "code",
      "execution_count": 7,
      "metadata": {},
      "outputs": [
        {
          "name": "stdout",
          "output_type": "stream",
          "text": [
            "Collecting pandas\n",
            "  Downloading pandas-2.3.2-cp312-cp312-win_amd64.whl.metadata (19 kB)\n",
            "Collecting matplotlib\n",
            "  Downloading matplotlib-3.10.5-cp312-cp312-win_amd64.whl.metadata (11 kB)\n",
            "Collecting seaborn\n",
            "  Using cached seaborn-0.13.2-py3-none-any.whl.metadata (5.4 kB)\n",
            "Collecting scikit-learn\n",
            "  Downloading scikit_learn-1.7.1-cp312-cp312-win_amd64.whl.metadata (11 kB)\n",
            "Collecting jupyterlab\n",
            "  Downloading jupyterlab-4.4.6-py3-none-any.whl.metadata (16 kB)\n",
            "Requirement already satisfied: numpy>=1.26.0 in c:\\users\\tanisha\\miniconda3\\lib\\site-packages (from pandas) (2.1.3)\n",
            "Requirement already satisfied: python-dateutil>=2.8.2 in c:\\users\\tanisha\\miniconda3\\lib\\site-packages (from pandas) (2.9.0.post0)\n",
            "Collecting pytz>=2020.1 (from pandas)\n",
            "  Using cached pytz-2025.2-py2.py3-none-any.whl.metadata (22 kB)\n",
            "Collecting tzdata>=2022.7 (from pandas)\n",
            "  Using cached tzdata-2025.2-py2.py3-none-any.whl.metadata (1.4 kB)\n",
            "Collecting contourpy>=1.0.1 (from matplotlib)\n",
            "  Downloading contourpy-1.3.3-cp312-cp312-win_amd64.whl.metadata (5.5 kB)\n",
            "Collecting cycler>=0.10 (from matplotlib)\n",
            "  Using cached cycler-0.12.1-py3-none-any.whl.metadata (3.8 kB)\n",
            "Collecting fonttools>=4.22.0 (from matplotlib)\n",
            "  Downloading fonttools-4.59.1-cp312-cp312-win_amd64.whl.metadata (111 kB)\n",
            "Collecting kiwisolver>=1.3.1 (from matplotlib)\n",
            "  Downloading kiwisolver-1.4.9-cp312-cp312-win_amd64.whl.metadata (6.4 kB)\n",
            "Requirement already satisfied: packaging>=20.0 in c:\\users\\tanisha\\miniconda3\\lib\\site-packages (from matplotlib) (24.1)\n",
            "Collecting pillow>=8 (from matplotlib)\n",
            "  Downloading pillow-11.3.0-cp312-cp312-win_amd64.whl.metadata (9.2 kB)\n",
            "Collecting pyparsing>=2.3.1 (from matplotlib)\n",
            "  Using cached pyparsing-3.2.3-py3-none-any.whl.metadata (5.0 kB)\n",
            "Collecting scipy>=1.8.0 (from scikit-learn)\n",
            "  Downloading scipy-1.16.1-cp312-cp312-win_amd64.whl.metadata (60 kB)\n",
            "Collecting joblib>=1.2.0 (from scikit-learn)\n",
            "  Using cached joblib-1.5.1-py3-none-any.whl.metadata (5.6 kB)\n",
            "Collecting threadpoolctl>=3.1.0 (from scikit-learn)\n",
            "  Using cached threadpoolctl-3.6.0-py3-none-any.whl.metadata (13 kB)\n",
            "Collecting async-lru>=1.0.0 (from jupyterlab)\n",
            "  Downloading async_lru-2.0.5-py3-none-any.whl.metadata (4.5 kB)\n",
            "Collecting httpx<1,>=0.25.0 (from jupyterlab)\n",
            "  Using cached httpx-0.28.1-py3-none-any.whl.metadata (7.1 kB)\n",
            "Requirement already satisfied: ipykernel!=6.30.0,>=6.5.0 in c:\\users\\tanisha\\miniconda3\\lib\\site-packages (from jupyterlab) (6.30.1)\n",
            "Collecting jinja2>=3.0.3 (from jupyterlab)\n",
            "  Using cached jinja2-3.1.6-py3-none-any.whl.metadata (2.9 kB)\n",
            "Requirement already satisfied: jupyter-core in c:\\users\\tanisha\\miniconda3\\lib\\site-packages (from jupyterlab) (5.8.1)\n",
            "Collecting jupyter-lsp>=2.0.0 (from jupyterlab)\n",
            "  Downloading jupyter_lsp-2.2.6-py3-none-any.whl.metadata (1.8 kB)\n",
            "Collecting jupyter-server<3,>=2.4.0 (from jupyterlab)\n",
            "  Downloading jupyter_server-2.17.0-py3-none-any.whl.metadata (8.5 kB)\n",
            "Collecting jupyterlab-server<3,>=2.27.1 (from jupyterlab)\n",
            "  Downloading jupyterlab_server-2.27.3-py3-none-any.whl.metadata (5.9 kB)\n",
            "Collecting notebook-shim>=0.2 (from jupyterlab)\n",
            "  Downloading notebook_shim-0.2.4-py3-none-any.whl.metadata (4.0 kB)\n",
            "Requirement already satisfied: setuptools>=41.1.0 in c:\\users\\tanisha\\miniconda3\\lib\\site-packages (from jupyterlab) (72.1.0)\n",
            "Requirement already satisfied: tornado>=6.2.0 in c:\\users\\tanisha\\miniconda3\\lib\\site-packages (from jupyterlab) (6.5.2)\n",
            "Requirement already satisfied: traitlets in c:\\users\\tanisha\\miniconda3\\lib\\site-packages (from jupyterlab) (5.14.3)\n",
            "Collecting anyio (from httpx<1,>=0.25.0->jupyterlab)\n",
            "  Downloading anyio-4.10.0-py3-none-any.whl.metadata (4.0 kB)\n",
            "Requirement already satisfied: certifi in c:\\users\\tanisha\\miniconda3\\lib\\site-packages (from httpx<1,>=0.25.0->jupyterlab) (2025.8.3)\n",
            "Collecting httpcore==1.* (from httpx<1,>=0.25.0->jupyterlab)\n",
            "  Using cached httpcore-1.0.9-py3-none-any.whl.metadata (21 kB)\n",
            "Requirement already satisfied: idna in c:\\users\\tanisha\\miniconda3\\lib\\site-packages (from httpx<1,>=0.25.0->jupyterlab) (3.7)\n",
            "Collecting h11>=0.16 (from httpcore==1.*->httpx<1,>=0.25.0->jupyterlab)\n",
            "  Using cached h11-0.16.0-py3-none-any.whl.metadata (8.3 kB)\n",
            "Requirement already satisfied: comm>=0.1.1 in c:\\users\\tanisha\\miniconda3\\lib\\site-packages (from ipykernel!=6.30.0,>=6.5.0->jupyterlab) (0.2.3)\n",
            "Requirement already satisfied: debugpy>=1.6.5 in c:\\users\\tanisha\\miniconda3\\lib\\site-packages (from ipykernel!=6.30.0,>=6.5.0->jupyterlab) (1.8.16)\n",
            "Requirement already satisfied: ipython>=7.23.1 in c:\\users\\tanisha\\miniconda3\\lib\\site-packages (from ipykernel!=6.30.0,>=6.5.0->jupyterlab) (9.4.0)\n",
            "Requirement already satisfied: jupyter-client>=8.0.0 in c:\\users\\tanisha\\miniconda3\\lib\\site-packages (from ipykernel!=6.30.0,>=6.5.0->jupyterlab) (8.6.3)\n",
            "Requirement already satisfied: matplotlib-inline>=0.1 in c:\\users\\tanisha\\miniconda3\\lib\\site-packages (from ipykernel!=6.30.0,>=6.5.0->jupyterlab) (0.1.7)\n",
            "Requirement already satisfied: nest-asyncio>=1.4 in c:\\users\\tanisha\\miniconda3\\lib\\site-packages (from ipykernel!=6.30.0,>=6.5.0->jupyterlab) (1.6.0)\n",
            "Requirement already satisfied: psutil>=5.7 in c:\\users\\tanisha\\miniconda3\\lib\\site-packages (from ipykernel!=6.30.0,>=6.5.0->jupyterlab) (7.0.0)\n",
            "Requirement already satisfied: pyzmq>=25 in c:\\users\\tanisha\\miniconda3\\lib\\site-packages (from ipykernel!=6.30.0,>=6.5.0->jupyterlab) (27.0.1)\n",
            "Requirement already satisfied: MarkupSafe>=2.0 in c:\\users\\tanisha\\miniconda3\\lib\\site-packages (from jinja2>=3.0.3->jupyterlab) (3.0.2)\n",
            "Requirement already satisfied: platformdirs>=2.5 in c:\\users\\tanisha\\miniconda3\\lib\\site-packages (from jupyter-core->jupyterlab) (3.10.0)\n",
            "Requirement already satisfied: pywin32>=300 in c:\\users\\tanisha\\miniconda3\\lib\\site-packages (from jupyter-core->jupyterlab) (311)\n",
            "Collecting argon2-cffi>=21.1 (from jupyter-server<3,>=2.4.0->jupyterlab)\n",
            "  Downloading argon2_cffi-25.1.0-py3-none-any.whl.metadata (4.1 kB)\n",
            "Collecting jupyter-events>=0.11.0 (from jupyter-server<3,>=2.4.0->jupyterlab)\n",
            "  Downloading jupyter_events-0.12.0-py3-none-any.whl.metadata (5.8 kB)\n",
            "Collecting jupyter-server-terminals>=0.4.4 (from jupyter-server<3,>=2.4.0->jupyterlab)\n",
            "  Downloading jupyter_server_terminals-0.5.3-py3-none-any.whl.metadata (5.6 kB)\n",
            "Collecting nbconvert>=6.4.4 (from jupyter-server<3,>=2.4.0->jupyterlab)\n",
            "  Downloading nbconvert-7.16.6-py3-none-any.whl.metadata (8.5 kB)\n",
            "Collecting nbformat>=5.3.0 (from jupyter-server<3,>=2.4.0->jupyterlab)\n",
            "  Downloading nbformat-5.10.4-py3-none-any.whl.metadata (3.6 kB)\n",
            "Collecting prometheus-client>=0.9 (from jupyter-server<3,>=2.4.0->jupyterlab)\n",
            "  Downloading prometheus_client-0.22.1-py3-none-any.whl.metadata (1.9 kB)\n",
            "Collecting pywinpty>=2.0.1 (from jupyter-server<3,>=2.4.0->jupyterlab)\n",
            "  Downloading pywinpty-3.0.0-cp312-cp312-win_amd64.whl.metadata (101 bytes)\n",
            "Collecting send2trash>=1.8.2 (from jupyter-server<3,>=2.4.0->jupyterlab)\n",
            "  Downloading Send2Trash-1.8.3-py3-none-any.whl.metadata (4.0 kB)\n",
            "Collecting terminado>=0.8.3 (from jupyter-server<3,>=2.4.0->jupyterlab)\n",
            "  Downloading terminado-0.18.1-py3-none-any.whl.metadata (5.8 kB)\n",
            "Collecting websocket-client>=1.7 (from jupyter-server<3,>=2.4.0->jupyterlab)\n",
            "  Downloading websocket_client-1.8.0-py3-none-any.whl.metadata (8.0 kB)\n",
            "Collecting babel>=2.10 (from jupyterlab-server<3,>=2.27.1->jupyterlab)\n",
            "  Downloading babel-2.17.0-py3-none-any.whl.metadata (2.0 kB)\n",
            "Collecting json5>=0.9.0 (from jupyterlab-server<3,>=2.27.1->jupyterlab)\n",
            "  Downloading json5-0.12.1-py3-none-any.whl.metadata (36 kB)\n",
            "Collecting jsonschema>=4.18.0 (from jupyterlab-server<3,>=2.27.1->jupyterlab)\n",
            "  Using cached jsonschema-4.25.1-py3-none-any.whl.metadata (7.6 kB)\n",
            "Requirement already satisfied: requests>=2.31 in c:\\users\\tanisha\\miniconda3\\lib\\site-packages (from jupyterlab-server<3,>=2.27.1->jupyterlab) (2.32.3)\n",
            "Requirement already satisfied: six>=1.5 in c:\\users\\tanisha\\miniconda3\\lib\\site-packages (from python-dateutil>=2.8.2->pandas) (1.17.0)\n",
            "Collecting sniffio>=1.1 (from anyio->httpx<1,>=0.25.0->jupyterlab)\n",
            "  Using cached sniffio-1.3.1-py3-none-any.whl.metadata (3.9 kB)\n",
            "Requirement already satisfied: typing_extensions>=4.5 in c:\\users\\tanisha\\miniconda3\\lib\\site-packages (from anyio->httpx<1,>=0.25.0->jupyterlab) (4.14.1)\n",
            "Collecting argon2-cffi-bindings (from argon2-cffi>=21.1->jupyter-server<3,>=2.4.0->jupyterlab)\n",
            "  Downloading argon2_cffi_bindings-25.1.0-cp39-abi3-win_amd64.whl.metadata (7.5 kB)\n",
            "Requirement already satisfied: colorama in c:\\users\\tanisha\\miniconda3\\lib\\site-packages (from ipython>=7.23.1->ipykernel!=6.30.0,>=6.5.0->jupyterlab) (0.4.6)\n",
            "Requirement already satisfied: decorator in c:\\users\\tanisha\\miniconda3\\lib\\site-packages (from ipython>=7.23.1->ipykernel!=6.30.0,>=6.5.0->jupyterlab) (5.2.1)\n",
            "Requirement already satisfied: ipython-pygments-lexers in c:\\users\\tanisha\\miniconda3\\lib\\site-packages (from ipython>=7.23.1->ipykernel!=6.30.0,>=6.5.0->jupyterlab) (1.1.1)\n",
            "Requirement already satisfied: jedi>=0.16 in c:\\users\\tanisha\\miniconda3\\lib\\site-packages (from ipython>=7.23.1->ipykernel!=6.30.0,>=6.5.0->jupyterlab) (0.19.2)\n",
            "Requirement already satisfied: prompt_toolkit<3.1.0,>=3.0.41 in c:\\users\\tanisha\\miniconda3\\lib\\site-packages (from ipython>=7.23.1->ipykernel!=6.30.0,>=6.5.0->jupyterlab) (3.0.51)\n",
            "Requirement already satisfied: pygments>=2.4.0 in c:\\users\\tanisha\\miniconda3\\lib\\site-packages (from ipython>=7.23.1->ipykernel!=6.30.0,>=6.5.0->jupyterlab) (2.19.2)\n",
            "Requirement already satisfied: stack_data in c:\\users\\tanisha\\miniconda3\\lib\\site-packages (from ipython>=7.23.1->ipykernel!=6.30.0,>=6.5.0->jupyterlab) (0.6.3)\n",
            "Collecting attrs>=22.2.0 (from jsonschema>=4.18.0->jupyterlab-server<3,>=2.27.1->jupyterlab)\n",
            "  Using cached attrs-25.3.0-py3-none-any.whl.metadata (10 kB)\n",
            "Collecting jsonschema-specifications>=2023.03.6 (from jsonschema>=4.18.0->jupyterlab-server<3,>=2.27.1->jupyterlab)\n",
            "  Using cached jsonschema_specifications-2025.4.1-py3-none-any.whl.metadata (2.9 kB)\n",
            "Collecting referencing>=0.28.4 (from jsonschema>=4.18.0->jupyterlab-server<3,>=2.27.1->jupyterlab)\n",
            "  Using cached referencing-0.36.2-py3-none-any.whl.metadata (2.8 kB)\n",
            "Collecting rpds-py>=0.7.1 (from jsonschema>=4.18.0->jupyterlab-server<3,>=2.27.1->jupyterlab)\n",
            "  Downloading rpds_py-0.27.0-cp312-cp312-win_amd64.whl.metadata (4.3 kB)\n",
            "Collecting python-json-logger>=2.0.4 (from jupyter-events>=0.11.0->jupyter-server<3,>=2.4.0->jupyterlab)\n",
            "  Downloading python_json_logger-3.3.0-py3-none-any.whl.metadata (4.0 kB)\n",
            "Collecting pyyaml>=5.3 (from jupyter-events>=0.11.0->jupyter-server<3,>=2.4.0->jupyterlab)\n",
            "  Downloading PyYAML-6.0.2-cp312-cp312-win_amd64.whl.metadata (2.1 kB)\n",
            "Collecting rfc3339-validator (from jupyter-events>=0.11.0->jupyter-server<3,>=2.4.0->jupyterlab)\n",
            "  Downloading rfc3339_validator-0.1.4-py2.py3-none-any.whl.metadata (1.5 kB)\n",
            "Collecting rfc3986-validator>=0.1.1 (from jupyter-events>=0.11.0->jupyter-server<3,>=2.4.0->jupyterlab)\n",
            "  Downloading rfc3986_validator-0.1.1-py2.py3-none-any.whl.metadata (1.7 kB)\n",
            "Collecting beautifulsoup4 (from nbconvert>=6.4.4->jupyter-server<3,>=2.4.0->jupyterlab)\n",
            "  Using cached beautifulsoup4-4.13.4-py3-none-any.whl.metadata (3.8 kB)\n",
            "Collecting bleach!=5.0.0 (from bleach[css]!=5.0.0->nbconvert>=6.4.4->jupyter-server<3,>=2.4.0->jupyterlab)\n",
            "  Downloading bleach-6.2.0-py3-none-any.whl.metadata (30 kB)\n",
            "Collecting defusedxml (from nbconvert>=6.4.4->jupyter-server<3,>=2.4.0->jupyterlab)\n",
            "  Downloading defusedxml-0.7.1-py2.py3-none-any.whl.metadata (32 kB)\n",
            "Collecting jupyterlab-pygments (from nbconvert>=6.4.4->jupyter-server<3,>=2.4.0->jupyterlab)\n",
            "  Downloading jupyterlab_pygments-0.3.0-py3-none-any.whl.metadata (4.4 kB)\n",
            "Collecting mistune<4,>=2.0.3 (from nbconvert>=6.4.4->jupyter-server<3,>=2.4.0->jupyterlab)\n",
            "  Downloading mistune-3.1.3-py3-none-any.whl.metadata (1.8 kB)\n",
            "Collecting nbclient>=0.5.0 (from nbconvert>=6.4.4->jupyter-server<3,>=2.4.0->jupyterlab)\n",
            "  Downloading nbclient-0.10.2-py3-none-any.whl.metadata (8.3 kB)\n",
            "Collecting pandocfilters>=1.4.1 (from nbconvert>=6.4.4->jupyter-server<3,>=2.4.0->jupyterlab)\n",
            "  Downloading pandocfilters-1.5.1-py2.py3-none-any.whl.metadata (9.0 kB)\n",
            "Collecting fastjsonschema>=2.15 (from nbformat>=5.3.0->jupyter-server<3,>=2.4.0->jupyterlab)\n",
            "  Downloading fastjsonschema-2.21.2-py3-none-any.whl.metadata (2.3 kB)\n",
            "Requirement already satisfied: charset-normalizer<4,>=2 in c:\\users\\tanisha\\miniconda3\\lib\\site-packages (from requests>=2.31->jupyterlab-server<3,>=2.27.1->jupyterlab) (3.3.2)\n",
            "Requirement already satisfied: urllib3<3,>=1.21.1 in c:\\users\\tanisha\\miniconda3\\lib\\site-packages (from requests>=2.31->jupyterlab-server<3,>=2.27.1->jupyterlab) (2.2.2)\n",
            "Collecting webencodings (from bleach!=5.0.0->bleach[css]!=5.0.0->nbconvert>=6.4.4->jupyter-server<3,>=2.4.0->jupyterlab)\n",
            "  Downloading webencodings-0.5.1-py2.py3-none-any.whl.metadata (2.1 kB)\n",
            "Collecting tinycss2<1.5,>=1.1.0 (from bleach[css]!=5.0.0->nbconvert>=6.4.4->jupyter-server<3,>=2.4.0->jupyterlab)\n",
            "  Downloading tinycss2-1.4.0-py3-none-any.whl.metadata (3.0 kB)\n",
            "Requirement already satisfied: parso<0.9.0,>=0.8.4 in c:\\users\\tanisha\\miniconda3\\lib\\site-packages (from jedi>=0.16->ipython>=7.23.1->ipykernel!=6.30.0,>=6.5.0->jupyterlab) (0.8.4)\n",
            "Collecting fqdn (from jsonschema[format-nongpl]>=4.18.0->jupyter-events>=0.11.0->jupyter-server<3,>=2.4.0->jupyterlab)\n",
            "  Downloading fqdn-1.5.1-py3-none-any.whl.metadata (1.4 kB)\n",
            "Collecting isoduration (from jsonschema[format-nongpl]>=4.18.0->jupyter-events>=0.11.0->jupyter-server<3,>=2.4.0->jupyterlab)\n",
            "  Downloading isoduration-20.11.0-py3-none-any.whl.metadata (5.7 kB)\n",
            "Requirement already satisfied: jsonpointer>1.13 in c:\\users\\tanisha\\miniconda3\\lib\\site-packages (from jsonschema[format-nongpl]>=4.18.0->jupyter-events>=0.11.0->jupyter-server<3,>=2.4.0->jupyterlab) (2.1)\n",
            "Collecting rfc3987-syntax>=1.1.0 (from jsonschema[format-nongpl]>=4.18.0->jupyter-events>=0.11.0->jupyter-server<3,>=2.4.0->jupyterlab)\n",
            "  Downloading rfc3987_syntax-1.1.0-py3-none-any.whl.metadata (7.7 kB)\n",
            "Collecting uri-template (from jsonschema[format-nongpl]>=4.18.0->jupyter-events>=0.11.0->jupyter-server<3,>=2.4.0->jupyterlab)\n",
            "  Downloading uri_template-1.3.0-py3-none-any.whl.metadata (8.8 kB)\n",
            "Collecting webcolors>=24.6.0 (from jsonschema[format-nongpl]>=4.18.0->jupyter-events>=0.11.0->jupyter-server<3,>=2.4.0->jupyterlab)\n",
            "  Downloading webcolors-24.11.1-py3-none-any.whl.metadata (2.2 kB)\n",
            "Requirement already satisfied: wcwidth in c:\\users\\tanisha\\miniconda3\\lib\\site-packages (from prompt_toolkit<3.1.0,>=3.0.41->ipython>=7.23.1->ipykernel!=6.30.0,>=6.5.0->jupyterlab) (0.2.13)\n",
            "Requirement already satisfied: cffi>=1.0.1 in c:\\users\\tanisha\\miniconda3\\lib\\site-packages (from argon2-cffi-bindings->argon2-cffi>=21.1->jupyter-server<3,>=2.4.0->jupyterlab) (1.16.0)\n",
            "Collecting soupsieve>1.2 (from beautifulsoup4->nbconvert>=6.4.4->jupyter-server<3,>=2.4.0->jupyterlab)\n",
            "  Using cached soupsieve-2.7-py3-none-any.whl.metadata (4.6 kB)\n",
            "Requirement already satisfied: executing>=1.2.0 in c:\\users\\tanisha\\miniconda3\\lib\\site-packages (from stack_data->ipython>=7.23.1->ipykernel!=6.30.0,>=6.5.0->jupyterlab) (2.2.0)\n",
            "Requirement already satisfied: asttokens>=2.1.0 in c:\\users\\tanisha\\miniconda3\\lib\\site-packages (from stack_data->ipython>=7.23.1->ipykernel!=6.30.0,>=6.5.0->jupyterlab) (3.0.0)\n",
            "Requirement already satisfied: pure_eval in c:\\users\\tanisha\\miniconda3\\lib\\site-packages (from stack_data->ipython>=7.23.1->ipykernel!=6.30.0,>=6.5.0->jupyterlab) (0.2.3)\n",
            "Requirement already satisfied: pycparser in c:\\users\\tanisha\\miniconda3\\lib\\site-packages (from cffi>=1.0.1->argon2-cffi-bindings->argon2-cffi>=21.1->jupyter-server<3,>=2.4.0->jupyterlab) (2.21)\n",
            "Collecting lark>=1.2.2 (from rfc3987-syntax>=1.1.0->jsonschema[format-nongpl]>=4.18.0->jupyter-events>=0.11.0->jupyter-server<3,>=2.4.0->jupyterlab)\n",
            "  Downloading lark-1.2.2-py3-none-any.whl.metadata (1.8 kB)\n",
            "Collecting arrow>=0.15.0 (from isoduration->jsonschema[format-nongpl]>=4.18.0->jupyter-events>=0.11.0->jupyter-server<3,>=2.4.0->jupyterlab)\n",
            "  Downloading arrow-1.3.0-py3-none-any.whl.metadata (7.5 kB)\n",
            "Collecting types-python-dateutil>=2.8.10 (from arrow>=0.15.0->isoduration->jsonschema[format-nongpl]>=4.18.0->jupyter-events>=0.11.0->jupyter-server<3,>=2.4.0->jupyterlab)\n",
            "  Downloading types_python_dateutil-2.9.0.20250822-py3-none-any.whl.metadata (1.8 kB)\n",
            "Downloading pandas-2.3.2-cp312-cp312-win_amd64.whl (11.0 MB)\n",
            "   ---------------------------------------- 0.0/11.0 MB ? eta -:--:--\n",
            "   ---- ----------------------------------- 1.3/11.0 MB 7.5 MB/s eta 0:00:02\n",
            "   ---------- ----------------------------- 2.9/11.0 MB 7.6 MB/s eta 0:00:02\n",
            "   ---------------- ----------------------- 4.5/11.0 MB 7.5 MB/s eta 0:00:01\n",
            "   ---------------------- ----------------- 6.3/11.0 MB 7.6 MB/s eta 0:00:01\n",
            "   --------------------------- ------------ 7.6/11.0 MB 7.5 MB/s eta 0:00:01\n",
            "   --------------------------------- ------ 9.2/11.0 MB 7.4 MB/s eta 0:00:01\n",
            "   -------------------------------------- - 10.5/11.0 MB 7.4 MB/s eta 0:00:01\n",
            "   ---------------------------------------- 11.0/11.0 MB 7.1 MB/s eta 0:00:00\n",
            "Downloading matplotlib-3.10.5-cp312-cp312-win_amd64.whl (8.1 MB)\n",
            "   ---------------------------------------- 0.0/8.1 MB ? eta -:--:--\n",
            "   ------ --------------------------------- 1.3/8.1 MB 6.7 MB/s eta 0:00:02\n",
            "   ------------ --------------------------- 2.6/8.1 MB 6.6 MB/s eta 0:00:01\n",
            "   ------------------- -------------------- 3.9/8.1 MB 6.2 MB/s eta 0:00:01\n",
            "   ------------------------- -------------- 5.2/8.1 MB 6.2 MB/s eta 0:00:01\n",
            "   --------------------------------- ------ 6.8/8.1 MB 6.7 MB/s eta 0:00:01\n",
            "   ---------------------------------------- 8.1/8.1 MB 6.6 MB/s eta 0:00:00\n",
            "Using cached seaborn-0.13.2-py3-none-any.whl (294 kB)\n",
            "Downloading scikit_learn-1.7.1-cp312-cp312-win_amd64.whl (8.7 MB)\n",
            "   ---------------------------------------- 0.0/8.7 MB ? eta -:--:--\n",
            "   ------ --------------------------------- 1.3/8.7 MB 6.7 MB/s eta 0:00:02\n",
            "   ------------- -------------------------- 2.9/8.7 MB 7.0 MB/s eta 0:00:01\n",
            "   ------------------- -------------------- 4.2/8.7 MB 7.0 MB/s eta 0:00:01\n",
            "   ------------------------- -------------- 5.5/8.7 MB 7.1 MB/s eta 0:00:01\n",
            "   -------------------------------- ------- 7.1/8.7 MB 6.7 MB/s eta 0:00:01\n",
            "   -------------------------------------- - 8.4/8.7 MB 6.8 MB/s eta 0:00:01\n",
            "   ---------------------------------------- 8.7/8.7 MB 6.6 MB/s eta 0:00:00\n",
            "Downloading jupyterlab-4.4.6-py3-none-any.whl (12.3 MB)\n",
            "   ---------------------------------------- 0.0/12.3 MB ? eta -:--:--\n",
            "   ---- ----------------------------------- 1.3/12.3 MB 6.7 MB/s eta 0:00:02\n",
            "   --------- ------------------------------ 2.9/12.3 MB 7.3 MB/s eta 0:00:02\n",
            "   --------------- ------------------------ 4.7/12.3 MB 7.5 MB/s eta 0:00:02\n",
            "   -------------------- ------------------- 6.3/12.3 MB 7.6 MB/s eta 0:00:01\n",
            "   ------------------------- -------------- 7.9/12.3 MB 7.6 MB/s eta 0:00:01\n",
            "   ------------------------------ --------- 9.4/12.3 MB 7.6 MB/s eta 0:00:01\n",
            "   ------------------------------------ --- 11.3/12.3 MB 7.7 MB/s eta 0:00:01\n",
            "   ---------------------------------------- 12.3/12.3 MB 7.5 MB/s eta 0:00:00\n",
            "Downloading async_lru-2.0.5-py3-none-any.whl (6.1 kB)\n",
            "Downloading contourpy-1.3.3-cp312-cp312-win_amd64.whl (226 kB)\n",
            "Using cached cycler-0.12.1-py3-none-any.whl (8.3 kB)\n",
            "Downloading fonttools-4.59.1-cp312-cp312-win_amd64.whl (2.3 MB)\n",
            "   ---------------------------------------- 0.0/2.3 MB ? eta -:--:--\n",
            "   --------------------------- ------------ 1.6/2.3 MB 8.4 MB/s eta 0:00:01\n",
            "   ---------------------------------------- 2.3/2.3 MB 8.0 MB/s eta 0:00:00\n",
            "Using cached httpx-0.28.1-py3-none-any.whl (73 kB)\n",
            "Using cached httpcore-1.0.9-py3-none-any.whl (78 kB)\n",
            "Using cached jinja2-3.1.6-py3-none-any.whl (134 kB)\n",
            "Using cached joblib-1.5.1-py3-none-any.whl (307 kB)\n",
            "Downloading jupyter_lsp-2.2.6-py3-none-any.whl (69 kB)\n",
            "Downloading jupyter_server-2.17.0-py3-none-any.whl (388 kB)\n",
            "Downloading jupyterlab_server-2.27.3-py3-none-any.whl (59 kB)\n",
            "Downloading kiwisolver-1.4.9-cp312-cp312-win_amd64.whl (73 kB)\n",
            "Downloading notebook_shim-0.2.4-py3-none-any.whl (13 kB)\n",
            "Downloading pillow-11.3.0-cp312-cp312-win_amd64.whl (7.0 MB)\n",
            "   ---------------------------------------- 0.0/7.0 MB ? eta -:--:--\n",
            "   --------- ------------------------------ 1.6/7.0 MB 8.3 MB/s eta 0:00:01\n",
            "   ------------------- -------------------- 3.4/7.0 MB 8.4 MB/s eta 0:00:01\n",
            "   ---------------------------- ----------- 5.0/7.0 MB 8.2 MB/s eta 0:00:01\n",
            "   ------------------------------------- -- 6.6/7.0 MB 8.2 MB/s eta 0:00:01\n",
            "   ---------------------------------------- 7.0/7.0 MB 8.1 MB/s eta 0:00:00\n",
            "Using cached pyparsing-3.2.3-py3-none-any.whl (111 kB)\n",
            "Using cached pytz-2025.2-py2.py3-none-any.whl (509 kB)\n",
            "Downloading scipy-1.16.1-cp312-cp312-win_amd64.whl (38.5 MB)\n",
            "   ---------------------------------------- 0.0/38.5 MB ? eta -:--:--\n",
            "   - -------------------------------------- 1.6/38.5 MB 8.4 MB/s eta 0:00:05\n",
            "   --- ------------------------------------ 3.4/38.5 MB 8.4 MB/s eta 0:00:05\n",
            "   ---- ----------------------------------- 4.7/38.5 MB 7.9 MB/s eta 0:00:05\n",
            "   ------ --------------------------------- 6.6/38.5 MB 7.7 MB/s eta 0:00:05\n",
            "   -------- ------------------------------- 8.1/38.5 MB 7.9 MB/s eta 0:00:04\n",
            "   ---------- ----------------------------- 9.7/38.5 MB 7.8 MB/s eta 0:00:04\n",
            "   ----------- ---------------------------- 11.3/38.5 MB 7.8 MB/s eta 0:00:04\n",
            "   ------------- -------------------------- 13.1/38.5 MB 7.9 MB/s eta 0:00:04\n",
            "   --------------- ------------------------ 14.7/38.5 MB 8.0 MB/s eta 0:00:03\n",
            "   ----------------- ---------------------- 16.5/38.5 MB 7.9 MB/s eta 0:00:03\n",
            "   ------------------ --------------------- 18.1/38.5 MB 8.0 MB/s eta 0:00:03\n",
            "   -------------------- ------------------- 19.7/38.5 MB 8.0 MB/s eta 0:00:03\n",
            "   ---------------------- ----------------- 21.2/38.5 MB 7.9 MB/s eta 0:00:03\n",
            "   ----------------------- ---------------- 23.1/38.5 MB 8.0 MB/s eta 0:00:02\n",
            "   ------------------------- -------------- 24.6/38.5 MB 8.0 MB/s eta 0:00:02\n",
            "   --------------------------- ------------ 26.2/38.5 MB 7.9 MB/s eta 0:00:02\n",
            "   ---------------------------- ----------- 27.5/38.5 MB 7.9 MB/s eta 0:00:02\n",
            "   ----------------------------- ---------- 28.8/38.5 MB 7.8 MB/s eta 0:00:02\n",
            "   ------------------------------- -------- 30.4/38.5 MB 7.7 MB/s eta 0:00:02\n",
            "   -------------------------------- ------- 31.2/38.5 MB 7.6 MB/s eta 0:00:01\n",
            "   --------------------------------- ------ 32.5/38.5 MB 7.5 MB/s eta 0:00:01\n",
            "   ----------------------------------- ---- 33.8/38.5 MB 7.4 MB/s eta 0:00:01\n",
            "   ------------------------------------ --- 35.4/38.5 MB 7.5 MB/s eta 0:00:01\n",
            "   -------------------------------------- - 36.7/38.5 MB 7.4 MB/s eta 0:00:01\n",
            "   -------------------------------------- - 37.2/38.5 MB 7.2 MB/s eta 0:00:01\n",
            "   ---------------------------------------  38.3/38.5 MB 7.2 MB/s eta 0:00:01\n",
            "   ---------------------------------------- 38.5/38.5 MB 7.0 MB/s eta 0:00:00\n",
            "Using cached threadpoolctl-3.6.0-py3-none-any.whl (18 kB)\n",
            "Using cached tzdata-2025.2-py2.py3-none-any.whl (347 kB)\n",
            "Downloading anyio-4.10.0-py3-none-any.whl (107 kB)\n",
            "Downloading argon2_cffi-25.1.0-py3-none-any.whl (14 kB)\n",
            "Downloading babel-2.17.0-py3-none-any.whl (10.2 MB)\n",
            "   ---------------------------------------- 0.0/10.2 MB ? eta -:--:--\n",
            "   ---- ----------------------------------- 1.0/10.2 MB 6.3 MB/s eta 0:00:02\n",
            "   ---------- ----------------------------- 2.6/10.2 MB 6.9 MB/s eta 0:00:02\n",
            "   --------------- ------------------------ 3.9/10.2 MB 6.7 MB/s eta 0:00:01\n",
            "   -------------------- ------------------- 5.2/10.2 MB 6.8 MB/s eta 0:00:01\n",
            "   -------------------------- ------------- 6.8/10.2 MB 6.8 MB/s eta 0:00:01\n",
            "   ----------------------------- ---------- 7.6/10.2 MB 6.6 MB/s eta 0:00:01\n",
            "   -------------------------------- ------- 8.4/10.2 MB 6.0 MB/s eta 0:00:01\n",
            "   ------------------------------------- -- 9.4/10.2 MB 5.8 MB/s eta 0:00:01\n",
            "   ---------------------------------------- 10.2/10.2 MB 5.6 MB/s eta 0:00:00\n",
            "Downloading json5-0.12.1-py3-none-any.whl (36 kB)\n",
            "Using cached jsonschema-4.25.1-py3-none-any.whl (90 kB)\n",
            "Downloading jupyter_events-0.12.0-py3-none-any.whl (19 kB)\n",
            "Downloading jupyter_server_terminals-0.5.3-py3-none-any.whl (13 kB)\n",
            "Downloading nbconvert-7.16.6-py3-none-any.whl (258 kB)\n",
            "Downloading nbformat-5.10.4-py3-none-any.whl (78 kB)\n",
            "Downloading prometheus_client-0.22.1-py3-none-any.whl (58 kB)\n",
            "Downloading pywinpty-3.0.0-cp312-cp312-win_amd64.whl (2.1 MB)\n",
            "   ---------------------------------------- 0.0/2.1 MB ? eta -:--:--\n",
            "   ------------------------- -------------- 1.3/2.1 MB 6.1 MB/s eta 0:00:01\n",
            "   ---------------------------------------- 2.1/2.1 MB 6.4 MB/s eta 0:00:00\n",
            "Downloading Send2Trash-1.8.3-py3-none-any.whl (18 kB)\n",
            "Downloading terminado-0.18.1-py3-none-any.whl (14 kB)\n",
            "Downloading websocket_client-1.8.0-py3-none-any.whl (58 kB)\n",
            "Using cached attrs-25.3.0-py3-none-any.whl (63 kB)\n",
            "Downloading bleach-6.2.0-py3-none-any.whl (163 kB)\n",
            "Downloading fastjsonschema-2.21.2-py3-none-any.whl (24 kB)\n",
            "Using cached h11-0.16.0-py3-none-any.whl (37 kB)\n",
            "Using cached jsonschema_specifications-2025.4.1-py3-none-any.whl (18 kB)\n",
            "Downloading mistune-3.1.3-py3-none-any.whl (53 kB)\n",
            "Downloading nbclient-0.10.2-py3-none-any.whl (25 kB)\n",
            "Downloading pandocfilters-1.5.1-py2.py3-none-any.whl (8.7 kB)\n",
            "Downloading python_json_logger-3.3.0-py3-none-any.whl (15 kB)\n",
            "Downloading PyYAML-6.0.2-cp312-cp312-win_amd64.whl (156 kB)\n",
            "Using cached referencing-0.36.2-py3-none-any.whl (26 kB)\n",
            "Downloading rfc3986_validator-0.1.1-py2.py3-none-any.whl (4.2 kB)\n",
            "Downloading rpds_py-0.27.0-cp312-cp312-win_amd64.whl (233 kB)\n",
            "Using cached sniffio-1.3.1-py3-none-any.whl (10 kB)\n",
            "Downloading argon2_cffi_bindings-25.1.0-cp39-abi3-win_amd64.whl (31 kB)\n",
            "Using cached beautifulsoup4-4.13.4-py3-none-any.whl (187 kB)\n",
            "Downloading defusedxml-0.7.1-py2.py3-none-any.whl (25 kB)\n",
            "Downloading jupyterlab_pygments-0.3.0-py3-none-any.whl (15 kB)\n",
            "Downloading rfc3339_validator-0.1.4-py2.py3-none-any.whl (3.5 kB)\n",
            "Downloading rfc3987_syntax-1.1.0-py3-none-any.whl (8.0 kB)\n",
            "Using cached soupsieve-2.7-py3-none-any.whl (36 kB)\n",
            "Downloading tinycss2-1.4.0-py3-none-any.whl (26 kB)\n",
            "Downloading webcolors-24.11.1-py3-none-any.whl (14 kB)\n",
            "Downloading webencodings-0.5.1-py2.py3-none-any.whl (11 kB)\n",
            "Downloading fqdn-1.5.1-py3-none-any.whl (9.1 kB)\n",
            "Downloading isoduration-20.11.0-py3-none-any.whl (11 kB)\n",
            "Downloading uri_template-1.3.0-py3-none-any.whl (11 kB)\n",
            "Downloading arrow-1.3.0-py3-none-any.whl (66 kB)\n",
            "Downloading lark-1.2.2-py3-none-any.whl (111 kB)\n",
            "Downloading types_python_dateutil-2.9.0.20250822-py3-none-any.whl (17 kB)\n",
            "Installing collected packages: webencodings, pytz, fastjsonschema, websocket-client, webcolors, uri-template, tzdata, types-python-dateutil, tinycss2, threadpoolctl, soupsieve, sniffio, send2trash, scipy, rpds-py, rfc3986-validator, rfc3339-validator, pyyaml, pywinpty, python-json-logger, pyparsing, prometheus-client, pillow, pandocfilters, mistune, lark, kiwisolver, jupyterlab-pygments, json5, joblib, jinja2, h11, fqdn, fonttools, defusedxml, cycler, contourpy, bleach, babel, attrs, async-lru, terminado, scikit-learn, rfc3987-syntax, referencing, pandas, matplotlib, httpcore, beautifulsoup4, arrow, argon2-cffi-bindings, anyio, seaborn, jupyter-server-terminals, jsonschema-specifications, isoduration, httpx, argon2-cffi, jsonschema, nbformat, nbclient, jupyter-events, nbconvert, jupyter-server, notebook-shim, jupyterlab-server, jupyter-lsp, jupyterlab\n",
            "Successfully installed anyio-4.10.0 argon2-cffi-25.1.0 argon2-cffi-bindings-25.1.0 arrow-1.3.0 async-lru-2.0.5 attrs-25.3.0 babel-2.17.0 beautifulsoup4-4.13.4 bleach-6.2.0 contourpy-1.3.3 cycler-0.12.1 defusedxml-0.7.1 fastjsonschema-2.21.2 fonttools-4.59.1 fqdn-1.5.1 h11-0.16.0 httpcore-1.0.9 httpx-0.28.1 isoduration-20.11.0 jinja2-3.1.6 joblib-1.5.1 json5-0.12.1 jsonschema-4.25.1 jsonschema-specifications-2025.4.1 jupyter-events-0.12.0 jupyter-lsp-2.2.6 jupyter-server-2.17.0 jupyter-server-terminals-0.5.3 jupyterlab-4.4.6 jupyterlab-pygments-0.3.0 jupyterlab-server-2.27.3 kiwisolver-1.4.9 lark-1.2.2 matplotlib-3.10.5 mistune-3.1.3 nbclient-0.10.2 nbconvert-7.16.6 nbformat-5.10.4 notebook-shim-0.2.4 pandas-2.3.2 pandocfilters-1.5.1 pillow-11.3.0 prometheus-client-0.22.1 pyparsing-3.2.3 python-json-logger-3.3.0 pytz-2025.2 pywinpty-3.0.0 pyyaml-6.0.2 referencing-0.36.2 rfc3339-validator-0.1.4 rfc3986-validator-0.1.1 rfc3987-syntax-1.1.0 rpds-py-0.27.0 scikit-learn-1.7.1 scipy-1.16.1 seaborn-0.13.2 send2trash-1.8.3 sniffio-1.3.1 soupsieve-2.7 terminado-0.18.1 threadpoolctl-3.6.0 tinycss2-1.4.0 types-python-dateutil-2.9.0.20250822 tzdata-2025.2 uri-template-1.3.0 webcolors-24.11.1 webencodings-0.5.1 websocket-client-1.8.0\n",
            "Note: you may need to restart the kernel to use updated packages.\n"
          ]
        },
        {
          "name": "stderr",
          "output_type": "stream",
          "text": [
            "'DOSKEY' is not recognized as an internal or external command,\n",
            "operable program or batch file.\n",
            "  WARNING: The script wsdump.exe is installed in 'c:\\Users\\Tanisha\\miniconda3\\Scripts' which is not on PATH.\n",
            "  Consider adding this directory to PATH or, if you prefer to suppress this warning, use --no-warn-script-location.\n",
            "  WARNING: The script send2trash.exe is installed in 'c:\\Users\\Tanisha\\miniconda3\\Scripts' which is not on PATH.\n",
            "  Consider adding this directory to PATH or, if you prefer to suppress this warning, use --no-warn-script-location.\n",
            "  WARNING: The script pyjson5.exe is installed in 'c:\\Users\\Tanisha\\miniconda3\\Scripts' which is not on PATH.\n",
            "  Consider adding this directory to PATH or, if you prefer to suppress this warning, use --no-warn-script-location.\n",
            "  WARNING: The scripts fonttools.exe, pyftmerge.exe, pyftsubset.exe and ttx.exe are installed in 'c:\\Users\\Tanisha\\miniconda3\\Scripts' which is not on PATH.\n",
            "  Consider adding this directory to PATH or, if you prefer to suppress this warning, use --no-warn-script-location.\n",
            "  WARNING: The script pybabel.exe is installed in 'c:\\Users\\Tanisha\\miniconda3\\Scripts' which is not on PATH.\n",
            "  Consider adding this directory to PATH or, if you prefer to suppress this warning, use --no-warn-script-location.\n",
            "  WARNING: The script httpx.exe is installed in 'c:\\Users\\Tanisha\\miniconda3\\Scripts' which is not on PATH.\n",
            "  Consider adding this directory to PATH or, if you prefer to suppress this warning, use --no-warn-script-location.\n",
            "  WARNING: The script jsonschema.exe is installed in 'c:\\Users\\Tanisha\\miniconda3\\Scripts' which is not on PATH.\n",
            "  Consider adding this directory to PATH or, if you prefer to suppress this warning, use --no-warn-script-location.\n",
            "  WARNING: The script jupyter-trust.exe is installed in 'c:\\Users\\Tanisha\\miniconda3\\Scripts' which is not on PATH.\n",
            "  Consider adding this directory to PATH or, if you prefer to suppress this warning, use --no-warn-script-location.\n",
            "  WARNING: The script jupyter-execute.exe is installed in 'c:\\Users\\Tanisha\\miniconda3\\Scripts' which is not on PATH.\n",
            "  Consider adding this directory to PATH or, if you prefer to suppress this warning, use --no-warn-script-location.\n",
            "  WARNING: The script jupyter-events.exe is installed in 'c:\\Users\\Tanisha\\miniconda3\\Scripts' which is not on PATH.\n",
            "  Consider adding this directory to PATH or, if you prefer to suppress this warning, use --no-warn-script-location.\n",
            "  WARNING: The scripts jupyter-dejavu.exe and jupyter-nbconvert.exe are installed in 'c:\\Users\\Tanisha\\miniconda3\\Scripts' which is not on PATH.\n",
            "  Consider adding this directory to PATH or, if you prefer to suppress this warning, use --no-warn-script-location.\n",
            "  WARNING: The script jupyter-server.exe is installed in 'c:\\Users\\Tanisha\\miniconda3\\Scripts' which is not on PATH.\n",
            "  Consider adding this directory to PATH or, if you prefer to suppress this warning, use --no-warn-script-location.\n",
            "  WARNING: The scripts jlpm.exe, jupyter-lab.exe, jupyter-labextension.exe and jupyter-labhub.exe are installed in 'c:\\Users\\Tanisha\\miniconda3\\Scripts' which is not on PATH.\n",
            "  Consider adding this directory to PATH or, if you prefer to suppress this warning, use --no-warn-script-location.\n"
          ]
        }
      ],
      "source": [
        "pip install pandas matplotlib seaborn scikit-learn jupyterlab"
      ]
    },
    {
      "cell_type": "code",
      "execution_count": 8,
      "metadata": {},
      "outputs": [
        {
          "name": "stdout",
          "output_type": "stream",
          "text": [
            "2.3.2\n"
          ]
        }
      ],
      "source": [
        "import pandas as pd\n",
        "print(pd.__version__)\n"
      ]
    },
    {
      "cell_type": "code",
      "execution_count": 12,
      "metadata": {},
      "outputs": [
        {
          "name": "stdout",
          "output_type": "stream",
          "text": [
            "Note: you may need to restart the kernel to use updated packages.\n"
          ]
        },
        {
          "name": "stderr",
          "output_type": "stream",
          "text": [
            "'DOSKEY' is not recognized as an internal or external command,\n",
            "operable program or batch file.\n",
            "  WARNING: The script watchmedo.exe is installed in 'c:\\Users\\Tanisha\\miniconda3\\Scripts' which is not on PATH.\n",
            "  Consider adding this directory to PATH or, if you prefer to suppress this warning, use --no-warn-script-location.\n",
            "  WARNING: The script flask.exe is installed in 'c:\\Users\\Tanisha\\miniconda3\\Scripts' which is not on PATH.\n",
            "  Consider adding this directory to PATH or, if you prefer to suppress this warning, use --no-warn-script-location.\n",
            "  WARNING: The script streamlit.exe is installed in 'c:\\Users\\Tanisha\\miniconda3\\Scripts' which is not on PATH.\n",
            "  Consider adding this directory to PATH or, if you prefer to suppress this warning, use --no-warn-script-location.\n"
          ]
        }
      ],
      "source": [
        "\n",
        "%pip install flask streamlit -q"
      ]
    },
    {
      "cell_type": "code",
      "execution_count": 13,
      "metadata": {
        "id": "EXT0oppqCWfs"
      },
      "outputs": [],
      "source": [
        "# --------------------- Personalized Healthcare Recommendations ---------------------\n",
        "\n",
        "# Import necessary libraries\n",
        "import pandas as pd\n",
        "import matplotlib.pyplot as plt\n",
        "import seaborn as sns\n",
        "from sklearn.model_selection import train_test_split, GridSearchCV\n",
        "from sklearn.preprocessing import StandardScaler\n",
        "from sklearn.compose import ColumnTransformer\n",
        "from sklearn.pipeline import Pipeline\n",
        "from sklearn.ensemble import RandomForestClassifier, GradientBoostingClassifier\n",
        "from sklearn.metrics import classification_report, confusion_matrix, roc_auc_score, RocCurveDisplay\n",
        "from flask import Flask, request, jsonify\n",
        "import streamlit as st"
      ]
    },
    {
      "cell_type": "code",
      "execution_count": 16,
      "metadata": {
        "id": "qpjjJNCN-aeI"
      },
      "outputs": [],
      "source": [
        "# --------------------- Load Dataset ---------------------\n",
        "# Dataset: CSV with columns including demographics, vitals, lifestyle, lab results\n",
        "# Correcting the file path to load data from the Colab environment\n",
        "data = pd.read_csv(\"D:\\\\Personalized-healthcare-recommendation\\\\blood.csv\")"
      ]
    },
    {
      "cell_type": "code",
      "execution_count": 17,
      "metadata": {
        "colab": {
          "base_uri": "https://localhost:8080/"
        },
        "id": "MYX1S011Alq-",
        "outputId": "3d2edc71-bce2-47b6-ded1-4a58391b0f3a"
      },
      "outputs": [
        {
          "name": "stdout",
          "output_type": "stream",
          "text": [
            "   Recency  Frequency  Monetary  Time  Class\n",
            "0        2         50     12500    99      1\n",
            "1        0         13      3250    28      1\n",
            "2        1         17      4000    36      1\n",
            "3        2         20      5000    45      1\n",
            "4        1         24      6000    77      0\n",
            "          Recency   Frequency      Monetary        Time       Class\n",
            "count  748.000000  748.000000    748.000000  748.000000  748.000000\n",
            "mean     9.506684    5.516043   1378.676471   34.284759    0.237968\n",
            "std      8.095396    5.841825   1459.826781   24.380307    0.426124\n",
            "min      0.000000    1.000000    250.000000    2.000000    0.000000\n",
            "25%      2.750000    2.000000    500.000000   16.000000    0.000000\n",
            "50%      7.000000    4.000000   1000.000000   28.000000    0.000000\n",
            "75%     14.000000    7.000000   1750.000000   50.000000    0.000000\n",
            "max     74.000000   50.000000  12500.000000   99.000000    1.000000\n",
            "Class\n",
            "0    570\n",
            "1    178\n",
            "Name: count, dtype: int64\n"
          ]
        }
      ],
      "source": [
        "# Explore dataset\n",
        "print(data.head())\n",
        "print(data.describe())\n",
        "print(data['Class'].value_counts())"
      ]
    },
    {
      "cell_type": "code",
      "execution_count": 18,
      "metadata": {
        "colab": {
          "base_uri": "https://localhost:8080/"
        },
        "id": "fY_czoHNBCKZ",
        "outputId": "01fed931-518e-4086-f3c4-bb93a372444d"
      },
      "outputs": [
        {
          "name": "stdout",
          "output_type": "stream",
          "text": [
            "Index(['Recency', 'Frequency', 'Monetary', 'Time', 'Class'], dtype='object')\n"
          ]
        }
      ],
      "source": [
        "print(data.columns)\n"
      ]
    },
    {
      "cell_type": "code",
      "execution_count": 19,
      "metadata": {
        "id": "GMqgDJE2CpoP"
      },
      "outputs": [],
      "source": [
        "# --------------------- Preprocess the data ---------------------\n",
        "X = data.drop('Class', axis=1)  # Features\n",
        "y = data['Class']               # Target\n",
        "\n",
        "numerical_features = ['Recency', 'Frequency', 'Monetary', 'Time']\n",
        "categorical_features = []  # None in this dataset\n"
      ]
    },
    {
      "cell_type": "code",
      "execution_count": 20,
      "metadata": {
        "id": "PCqDlxIACt08"
      },
      "outputs": [],
      "source": [
        "# Numerical pipeline\n",
        "numerical_pipeline = Pipeline(steps=[\n",
        "    ('scaler', StandardScaler())\n",
        "])"
      ]
    },
    {
      "cell_type": "code",
      "execution_count": 21,
      "metadata": {
        "id": "kjNNuAnECwGO"
      },
      "outputs": [],
      "source": [
        "# Column transformer\n",
        "preprocessor = ColumnTransformer(transformers=[\n",
        "    ('num', numerical_pipeline, numerical_features)\n",
        "])"
      ]
    },
    {
      "cell_type": "code",
      "execution_count": 22,
      "metadata": {
        "id": "mkXTDs9yCyUa"
      },
      "outputs": [],
      "source": [
        "# Split dataset\n",
        "X_train, X_test, y_train, y_test = train_test_split(\n",
        "    X, y, test_size=0.2, random_state=42, stratify=y\n",
        ")"
      ]
    },
    {
      "cell_type": "code",
      "execution_count": 23,
      "metadata": {
        "colab": {
          "base_uri": "https://localhost:8080/"
        },
        "id": "JBHCZTAcC0k7",
        "outputId": "1b2e5f88-7ec2-4ff6-dfba-ad868e1167e3"
      },
      "outputs": [
        {
          "name": "stdout",
          "output_type": "stream",
          "text": [
            "\n",
            "Best parameters for RandomForest: {'classifier__max_depth': 5, 'classifier__n_estimators': 200}\n",
            "Best CV AUC for RandomForest: 0.7117\n",
            "\n",
            "Best parameters for GradientBoosting: {'classifier__learning_rate': 0.05, 'classifier__max_depth': 3, 'classifier__n_estimators': 100}\n",
            "Best CV AUC for GradientBoosting: 0.7043\n",
            "\n",
            "Selected Model: RandomForest with CV AUC: 0.7117\n"
          ]
        }
      ],
      "source": [
        "# --------------------- Model Selection & Training ---------------------\n",
        "models = {\n",
        "    'RandomForest': RandomForestClassifier(random_state=42),\n",
        "    'GradientBoosting': GradientBoostingClassifier(random_state=42)\n",
        "}\n",
        "\n",
        "\n",
        "param_grids = {\n",
        "    'RandomForest': {\n",
        "        'classifier__n_estimators': [100, 200],\n",
        "        'classifier__max_depth': [None, 5, 10]\n",
        "    },\n",
        "    'GradientBoosting': {\n",
        "        'classifier__n_estimators': [100, 200],\n",
        "        'classifier__learning_rate': [0.05, 0.1],\n",
        "        'classifier__max_depth': [3, 5]\n",
        "    }\n",
        "}\n",
        "\n",
        "best_model_pipeline = None\n",
        "best_score = 0\n",
        "best_model_name = ''\n",
        "\n",
        "\n",
        "for model_name, model in models.items():\n",
        "    pipeline = Pipeline(steps=[\n",
        "        ('preprocessor', preprocessor),\n",
        "        ('classifier', model)\n",
        "    ])\n",
        "\n",
        "    grid = GridSearchCV(pipeline, param_grids[model_name], cv=5, scoring='roc_auc')\n",
        "    grid.fit(X_train, y_train)\n",
        "\n",
        "    print(f\"\\nBest parameters for {model_name}: {grid.best_params_}\")\n",
        "    print(f\"Best CV AUC for {model_name}: {grid.best_score_:.4f}\")\n",
        "\n",
        "    if grid.best_score_ > best_score:\n",
        "        best_score = grid.best_score_\n",
        "        best_model_pipeline = grid.best_estimator_\n",
        "        best_model_name = model_name\n",
        "\n",
        "print(f\"\\nSelected Model: {best_model_name} with CV AUC: {best_score:.4f}\")"
      ]
    },
    {
      "cell_type": "code",
      "execution_count": 24,
      "metadata": {
        "id": "bPiTrT2mDCwH"
      },
      "outputs": [],
      "source": [
        "# --------------------- Model Evaluation ---------------------\n",
        "y_pred = best_model_pipeline.predict(X_test)\n",
        "y_proba = best_model_pipeline.predict_proba(X_test)[:, 1]\n"
      ]
    },
    {
      "cell_type": "code",
      "execution_count": 25,
      "metadata": {
        "colab": {
          "base_uri": "https://localhost:8080/",
          "height": 452
        },
        "id": "2033PUDCDIU1",
        "outputId": "11d78c64-812c-4caa-fbe9-176f88decb58"
      },
      "outputs": [
        {
          "data": {
            "image/png": "[encoded data removed]",
            "text/plain": [
              "<Figure size 640x480 with 2 Axes>"
            ]
          },
          "metadata": {},
          "output_type": "display_data"
        }
      ],
      "source": [
        "# Confusion matrix\n",
        "sns.heatmap(confusion_matrix(y_test, y_pred), annot=True, fmt='d', cmap='Blues')\n",
        "plt.title(\"Confusion Matrix\")\n",
        "plt.show()"
      ]
    },
    {
      "cell_type": "code",
      "execution_count": 26,
      "metadata": {
        "colab": {
          "base_uri": "https://localhost:8080/"
        },
        "id": "dbPyjQ6dDL68",
        "outputId": "f3c4d8d9-f369-4176-a4c9-edc1c35430ec"
      },
      "outputs": [
        {
          "name": "stdout",
          "output_type": "stream",
          "text": [
            "\n",
            "Classification Report:\n",
            "              precision    recall  f1-score   support\n",
            "\n",
            "           0       0.84      0.91      0.87       114\n",
            "           1       0.62      0.44      0.52        36\n",
            "\n",
            "    accuracy                           0.80       150\n",
            "   macro avg       0.73      0.68      0.70       150\n",
            "weighted avg       0.79      0.80      0.79       150\n",
            "\n"
          ]
        }
      ],
      "source": [
        "# Classification report\n",
        "print(\"\\nClassification Report:\")\n",
        "print(classification_report(y_test, y_pred))\n"
      ]
    },
    {
      "cell_type": "code",
      "execution_count": 27,
      "metadata": {
        "colab": {
          "base_uri": "https://localhost:8080/",
          "height": 487
        },
        "id": "Jx7j2Iu2DOc9",
        "outputId": "9bef4693-e5e1-4855-a133-3b64621d6e3e"
      },
      "outputs": [
        {
          "name": "stdout",
          "output_type": "stream",
          "text": [
            "\n",
            "Test ROC-AUC: 0.7809\n"
          ]
        },
        {
          "data": {
            "image/png": "[encoded data removed]",
            "text/plain": [
              "<Figure size 640x480 with 1 Axes>"
            ]
          },
          "metadata": {},
          "output_type": "display_data"
        }
      ],
      "source": [
        "# ROC-AUC\n",
        "roc_auc = roc_auc_score(y_test, y_proba)\n",
        "print(f\"\\nTest ROC-AUC: {roc_auc:.4f}\")\n",
        "RocCurveDisplay.from_estimator(best_model_pipeline, X_test, y_test)\n",
        "plt.show()"
      ]
    },
    {
      "cell_type": "code",
      "execution_count": 28,
      "metadata": {
        "colab": {
          "base_uri": "https://localhost:8080/",
          "height": 472
        },
        "id": "bS6FVqlQDRwq",
        "outputId": "0e843cbd-9576-443b-ed4b-6c4a5f7d230e"
      },
      "outputs": [
        {
          "data": {
            "image/png": "[encoded data removed]",
            "text/plain": [
              "<Figure size 640x480 with 1 Axes>"
            ]
          },
          "metadata": {},
          "output_type": "display_data"
        }
      ],
      "source": [
        "# Feature importance (tree-based models)\n",
        "if best_model_name in ['RandomForest', 'GradientBoosting']:\n",
        "    importances = best_model_pipeline.named_steps['classifier'].feature_importances_\n",
        "    feature_df = pd.DataFrame({'Feature': numerical_features, 'Importance': importances})\n",
        "    feature_df = feature_df.sort_values(by='Importance', ascending=False)\n",
        "    sns.barplot(x='Importance', y='Feature', data=feature_df)\n",
        "    plt.title(f\"{best_model_name} Feature Importance\")\n",
        "    plt.show()"
      ]
    },
    {
      "cell_type": "code",
      "execution_count": 29,
      "metadata": {
        "id": "zDSfKvnDDVjn"
      },
      "outputs": [],
      "source": [
        "# --------------------- Recommendation Function ---------------------\n",
        "def generate_recommendations(patient_data):\n",
        "    prediction = best_model_pipeline.predict(patient_data)\n",
        "    mapping = {\n",
        "        0: \"No immediate action needed\",\n",
        "        1: \"Regular monitoring or intervention required\"\n",
        "    }\n",
        "    return mapping[prediction[0]]"
      ]
    },
    {
      "cell_type": "code",
      "execution_count": 30,
      "metadata": {
        "colab": {
          "base_uri": "https://localhost:8080/"
        },
        "id": "MP5o9GngDZuw",
        "outputId": "eb79a8f3-1726-4d18-be6f-695e57f5067d"
      },
      "outputs": [
        {
          "name": "stdout",
          "output_type": "stream",
          "text": [
            "Recommendation for example patient: Regular monitoring or intervention required\n"
          ]
        }
      ],
      "source": [
        "# Example patient\n",
        "example_patient = pd.DataFrame({\n",
        "    'Recency': [2],\n",
        "    'Frequency': [20],\n",
        "    'Monetary': [5000],\n",
        "    'Time': [50]\n",
        "})\n",
        "print(\"Recommendation for example patient:\", generate_recommendations(example_patient))"
      ]
    },
    {
      "cell_type": "code",
      "execution_count": null,
      "metadata": {},
      "outputs": [],
      "source": [
        "# --------------------- Flask Deployment ---------------------\n",
        "app = Flask(__name__)\n",
        "\n",
        "@app.route('/predict', methods=['POST'])\n",
        "def predict():\n",
        "    data_json = request.get_json(force=True)\n",
        "    patient_df = pd.DataFrame([data_json])\n",
        "    recommendation = generate_recommendations(patient_df)\n",
        "    return jsonify({'recommendation': recommendation})\n",
        "\n",
        "if __name__ == '__main__':\n",
        "    app.run(debug=True)"
      ]
    },
    {
      "cell_type": "code",
      "execution_count": 32,
      "metadata": {},
      "outputs": [
        {
          "name": "stdout",
          "output_type": "stream",
          "text": [
            "Requirement already satisfied: scikit-learn in c:\\users\\tanisha\\miniconda3\\lib\\site-packages (1.7.1)\n",
            "Requirement already satisfied: numpy>=1.22.0 in c:\\users\\tanisha\\miniconda3\\lib\\site-packages (from scikit-learn) (2.1.3)\n",
            "Requirement already satisfied: scipy>=1.8.0 in c:\\users\\tanisha\\miniconda3\\lib\\site-packages (from scikit-learn) (1.16.1)\n",
            "Requirement already satisfied: joblib>=1.2.0 in c:\\users\\tanisha\\miniconda3\\lib\\site-packages (from scikit-learn) (1.5.1)\n",
            "Requirement already satisfied: threadpoolctl>=3.1.0 in c:\\users\\tanisha\\miniconda3\\lib\\site-packages (from scikit-learn) (3.6.0)\n",
            "Note: you may need to restart the kernel to use updated packages.\n"
          ]
        },
        {
          "name": "stderr",
          "output_type": "stream",
          "text": [
            "'DOSKEY' is not recognized as an internal or external command,\n",
            "operable program or batch file.\n"
          ]
        }
      ],
      "source": [
        "%pip install scikit-learn"
      ]
    },
    {
      "cell_type": "code",
      "execution_count": 33,
      "metadata": {},
      "outputs": [
        {
          "name": "stdout",
          "output_type": "stream",
          "text": [
            "Collecting plotly\n",
            "  Using cached plotly-6.3.0-py3-none-any.whl.metadata (8.5 kB)\n",
            "Requirement already satisfied: matplotlib in c:\\users\\tanisha\\miniconda3\\lib\\site-packages (3.10.5)\n",
            "Requirement already satisfied: seaborn in c:\\users\\tanisha\\miniconda3\\lib\\site-packages (0.13.2)\n",
            "Requirement already satisfied: joblib in c:\\users\\tanisha\\miniconda3\\lib\\site-packages (1.5.1)\n",
            "Requirement already satisfied: narwhals>=1.15.1 in c:\\users\\tanisha\\miniconda3\\lib\\site-packages (from plotly) (2.1.2)\n",
            "Requirement already satisfied: packaging in c:\\users\\tanisha\\miniconda3\\lib\\site-packages (from plotly) (24.1)\n",
            "Requirement already satisfied: contourpy>=1.0.1 in c:\\users\\tanisha\\miniconda3\\lib\\site-packages (from matplotlib) (1.3.3)\n",
            "Requirement already satisfied: cycler>=0.10 in c:\\users\\tanisha\\miniconda3\\lib\\site-packages (from matplotlib) (0.12.1)\n",
            "Requirement already satisfied: fonttools>=4.22.0 in c:\\users\\tanisha\\miniconda3\\lib\\site-packages (from matplotlib) (4.59.1)\n",
            "Requirement already satisfied: kiwisolver>=1.3.1 in c:\\users\\tanisha\\miniconda3\\lib\\site-packages (from matplotlib) (1.4.9)\n",
            "Requirement already satisfied: numpy>=1.23 in c:\\users\\tanisha\\miniconda3\\lib\\site-packages (from matplotlib) (2.1.3)\n",
            "Requirement already satisfied: pillow>=8 in c:\\users\\tanisha\\miniconda3\\lib\\site-packages (from matplotlib) (11.3.0)\n",
            "Requirement already satisfied: pyparsing>=2.3.1 in c:\\users\\tanisha\\miniconda3\\lib\\site-packages (from matplotlib) (3.2.3)\n",
            "Requirement already satisfied: python-dateutil>=2.7 in c:\\users\\tanisha\\miniconda3\\lib\\site-packages (from matplotlib) (2.9.0.post0)\n",
            "Requirement already satisfied: pandas>=1.2 in c:\\users\\tanisha\\miniconda3\\lib\\site-packages (from seaborn) (2.3.2)\n",
            "Requirement already satisfied: pytz>=2020.1 in c:\\users\\tanisha\\miniconda3\\lib\\site-packages (from pandas>=1.2->seaborn) (2025.2)\n",
            "Requirement already satisfied: tzdata>=2022.7 in c:\\users\\tanisha\\miniconda3\\lib\\site-packages (from pandas>=1.2->seaborn) (2025.2)\n",
            "Requirement already satisfied: six>=1.5 in c:\\users\\tanisha\\miniconda3\\lib\\site-packages (from python-dateutil>=2.7->matplotlib) (1.17.0)\n",
            "Using cached plotly-6.3.0-py3-none-any.whl (9.8 MB)\n",
            "Installing collected packages: plotly\n",
            "Successfully installed plotly-6.3.0\n",
            "Note: you may need to restart the kernel to use updated packages.\n"
          ]
        },
        {
          "name": "stderr",
          "output_type": "stream",
          "text": [
            "'DOSKEY' is not recognized as an internal or external command,\n",
            "operable program or batch file.\n",
            "  WARNING: The script plotly_get_chrome.exe is installed in 'c:\\Users\\Tanisha\\miniconda3\\Scripts' which is not on PATH.\n",
            "  Consider adding this directory to PATH or, if you prefer to suppress this warning, use --no-warn-script-location.\n"
          ]
        }
      ],
      "source": [
        "%pip install plotly matplotlib seaborn joblib"
      ]
    }
  ],
  "metadata": {
    "colab": {
      "provenance": []
    },
    "kernelspec": {
      "display_name": "base",
      "language": "python",
      "name": "python3"
    },
    "language_info": {
      "codemirror_mode": {
        "name": "ipython",
        "version": 3
      },
      "file_extension": ".py",
      "mimetype": "text/x-python",
      "name": "python",
      "nbconvert_exporter": "python",
      "pygments_lexer": "ipython3",
      "version": "3.12.3"
    }
  },
  "nbformat": 4,
  "nbformat_minor": 0
}
